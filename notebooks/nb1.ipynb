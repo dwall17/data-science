{
 "cells": [
  {
   "cell_type": "code",
   "execution_count": null,
   "id": "ab541bbf-3e63-4f6e-84b6-1a0e1a99c0b0",
   "metadata": {},
   "outputs": [],
   "source": [
    "# This is your first data science notebook"
   ]
  }
 ],
 "metadata": {
  "kernelspec": {
   "display_name": "Python 3 (ipykernel)",
   "language": "python",
   "name": "python3"
  },
  "language_info": {
   "codemirror_mode": {
    "name": "ipython",
    "version": 3
   },
   "file_extension": ".py",
   "mimetype": "text/x-python",
   "name": "python",
   "nbconvert_exporter": "python",
   "pygments_lexer": "ipython3",
   "version": "3.10.0"
  }
 },
 "nbformat": 4,
 "nbformat_minor": 5
}
